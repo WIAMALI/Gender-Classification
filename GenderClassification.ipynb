{
  "nbformat": 4,
  "nbformat_minor": 0,
  "metadata": {
    "colab": {
      "provenance": []
    },
    "kernelspec": {
      "name": "python3",
      "display_name": "Python 3"
    },
    "language_info": {
      "name": "python"
    }
  },
  "cells": [
    {
      "cell_type": "code",
      "source": [
        "from google.colab import drive\n",
        "drive.mount('/content/drive')\n"
      ],
      "metadata": {
        "colab": {
          "base_uri": "https://localhost:8080/"
        },
        "id": "OKvuTx42uML3",
        "outputId": "3f3420f9-6745-42fe-c561-23658af37aa5"
      },
      "execution_count": null,
      "outputs": [
        {
          "output_type": "stream",
          "name": "stdout",
          "text": [
            "Mounted at /content/drive\n"
          ]
        }
      ]
    },
    {
      "cell_type": "code",
      "source": [
        "cd /content/drive/MyDrive/DL Project/Dataset"
      ],
      "metadata": {
        "id": "OGBShrvuruBj",
        "colab": {
          "base_uri": "https://localhost:8080/"
        },
        "outputId": "a27f6bc0-297f-41b4-8d1f-e4563758ef68"
      },
      "execution_count": null,
      "outputs": [
        {
          "output_type": "stream",
          "name": "stdout",
          "text": [
            "/content/drive/MyDrive/DL Project/Dataset\n"
          ]
        }
      ]
    },
    {
      "cell_type": "code",
      "execution_count": null,
      "metadata": {
        "id": "KgjjU1DDLnpv"
      },
      "outputs": [],
      "source": [
        "import tensorflow as tf\n",
        "import tensorflow_hub as hub\n",
        "import numpy as np\n",
        "import os\n",
        "import matplotlib.pyplot as plt\n",
        "import pandas as pd\n",
        "from tensorflow.keras.preprocessing.image import ImageDataGenerator\n",
        "from keras.layers import Input, Dense, Conv2D, Activation, MaxPool2D, Flatten, Dropout\n",
        "from keras.models import Sequential, Model\n",
        "from tensorflow import keras\n",
        "from tensorflow.keras.layers import LSTM\n",
        "from sklearn.model_selection import train_test_split\n",
        "from keras.optimizers import SGD"
      ]
    },
    {
      "cell_type": "code",
      "source": [
        "female_train_path= '/content/drive/MyDrive/DL Project/Dataset/Train/Female'\n",
        "male_train_path= '/content/drive/MyDrive/DL Project/Dataset/Train/Male'\n",
        "female_test_path='/content/drive/MyDrive/DL Project/Dataset/Test/Female'\n",
        "male_test_path='/content/drive/MyDrive/DL Project/Dataset/Test/Male'"
      ],
      "metadata": {
        "id": "LOwxgoPkMH5c"
      },
      "execution_count": null,
      "outputs": []
    },
    {
      "cell_type": "markdown",
      "source": [
        "Visualize Classes"
      ],
      "metadata": {
        "id": "h1OnsmTZPGSj"
      }
    },
    {
      "cell_type": "code",
      "source": [
        "# Count the number of images in female\n",
        "trainf_num= len([file for file in os.listdir(female_train_path) if file.endswith('.jpg')])\n",
        "trainm_num =len([file for file in os.listdir(male_train_path) if file.endswith('.jpg')])\n",
        "testf_num=len([file for file in os.listdir(female_test_path) if file.endswith('.jpg')])\n",
        "testm_num=len([file for file in os.listdir(male_test_path) if file.endswith('.jpg')])\n",
        "\n",
        "train_num=trainf_num+trainm_num\n",
        "test_num=testf_num+testm_num\n",
        "\n",
        "num_imagesF = trainf_num+testf_num\n",
        "num_imagesM = trainm_num+testm_num\n",
        "# Create a bar plot\n",
        "fig, ax = plt.subplots(figsize=(4, 4))\n",
        "ax.bar(['Female', 'Male'], [num_imagesF, num_imagesM])\n",
        "ax.set_ylabel('Number of Images')\n",
        "ax.set_title('Number of Images in Classes')\n",
        "plt.show()"
      ],
      "metadata": {
        "id": "9AP5MTJWLuPD",
        "colab": {
          "base_uri": "https://localhost:8080/",
          "height": 259
        },
        "outputId": "9263fab5-7bd2-4f94-9283-00ac481882f1"
      },
      "execution_count": null,
      "outputs": [
        {
          "output_type": "display_data",
          "data": {
            "text/plain": [
              "<Figure size 400x400 with 1 Axes>"
            ],
            "image/png": "[encoded data removed]"
          },
          "metadata": {}
        }
      ]
    },
    {
      "cell_type": "markdown",
      "source": [
        "PreProcessing"
      ],
      "metadata": {
        "id": "vtNpcNtzW362"
      }
    },
    {
      "cell_type": "code",
      "source": [
        "train_datagen = ImageDataGenerator( rescale=1./255,rotation_range=30,shear_range=0.3,zoom_range=0.3)\n",
        "test_datagen = ImageDataGenerator(rescale=1./255)"
      ],
      "metadata": {
        "id": "zU0PNiCh4Anq"
      },
      "execution_count": null,
      "outputs": []
    },
    {
      "cell_type": "code",
      "source": [
        "train_ds = train_datagen.flow_from_directory('/content/drive/MyDrive/DL Project/Dataset/Train', target_size = (64, 64), batch_size = 32,class_mode = 'binary')\n",
        "test_ds = test_datagen.flow_from_directory('/content/drive/MyDrive/DL Project/Dataset/Test', target_size = (64, 64), batch_size = 32,class_mode = 'binary')"
      ],
      "metadata": {
        "colab": {
          "base_uri": "https://localhost:8080/"
        },
        "id": "C4IgEacf3z2D",
        "outputId": "5a3368d7-207d-4bda-af25-d004820b6098"
      },
      "execution_count": null,
      "outputs": [
        {
          "output_type": "stream",
          "name": "stdout",
          "text": [
            "Found 199362 images belonging to 2 classes.\n",
            "Found 11299 images belonging to 2 classes.\n"
          ]
        }
      ]
    },
    {
      "cell_type": "code",
      "source": [
        "train_ds = train_datagen.flow_from_directory('/content/drive/MyDrive/DL Project/Dataset/SampleTrain', target_size = (64, 64), batch_size = 32,class_mode = 'binary')\n",
        "test_ds = test_datagen.flow_from_directory('/content/drive/MyDrive/DL Project/Dataset/SampleTest', target_size = (64, 64), batch_size = 32,class_mode = 'binary')"
      ],
      "metadata": {
        "id": "vtlLhrxmZQuO",
        "colab": {
          "base_uri": "https://localhost:8080/"
        },
        "outputId": "5823170b-d417-4cef-feee-e4e65c243c21"
      },
      "execution_count": null,
      "outputs": [
        {
          "output_type": "stream",
          "name": "stdout",
          "text": [
            "Found 2172 images belonging to 2 classes.\n",
            "Found 1152 images belonging to 2 classes.\n"
          ]
        }
      ]
    },
    {
      "cell_type": "code",
      "source": [
        "train_ds.image_shape\n",
        "test_ds.image_shape"
      ],
      "metadata": {
        "colab": {
          "base_uri": "https://localhost:8080/"
        },
        "id": "_bX8WfvK7j7N",
        "outputId": "02eae14b-3155-4b74-b89d-9bf7014df973"
      },
      "execution_count": null,
      "outputs": [
        {
          "output_type": "execute_result",
          "data": {
            "text/plain": [
              "(64, 64, 3)"
            ]
          },
          "metadata": {},
          "execution_count": 13
        }
      ]
    },
    {
      "cell_type": "markdown",
      "source": [
        "CNN"
      ],
      "metadata": {
        "id": "pLY5U9AVV9hK"
      }
    },
    {
      "cell_type": "code",
      "source": [
        "model = Sequential()\n",
        "\n",
        "model.add(Conv2D(32, (3, 3), activation='relu', input_shape=(64, 64, 3)))\n",
        "model.add(Conv2D(32, (3, 3), activation='relu'))\n",
        "model.add(MaxPooling2D(pool_size=(2, 2)))\n",
        "\n",
        "model.add(Flatten())\n",
        "model.add(Dense(256, activation='relu'))\n",
        "model.add(Dense(1, activation='softmax'))\n",
        "\n",
        "sgd = SGD(lr=0.01, decay=1e-6, momentum=0.9, nesterov=True)\n",
        "model.compile(loss='binary_crossentropy', metrics=['accuracy',tf.keras.metrics.Precision()], optimizer=sgd)\n",
        "\n",
        "history = model.fit(train_ds,batch_size=32, epochs=15, verbose=2)\n",
        "score1 = model.evaluate(test_ds, batch_size=32, verbose=0)\n",
        "print(model.metrics_names)\n",
        "print(score1)"
      ],
      "metadata": {
        "id": "lwL-g55LV8_E",
        "colab": {
          "base_uri": "https://localhost:8080/"
        },
        "outputId": "ae034b62-e7ec-4b29-cfc1-54b9577b2fcb"
      },
      "execution_count": null,
      "outputs": [
        {
          "metadata": {
            "tags": null
          },
          "name": "stderr",
          "output_type": "stream",
          "text": [
            "/usr/local/lib/python3.10/dist-packages/keras/optimizers/legacy/gradient_descent.py:114: UserWarning: The `lr` argument is deprecated, use `learning_rate` instead.\n",
            "  super().__init__(name, **kwargs)\n"
          ]
        },
        {
          "output_type": "stream",
          "name": "stdout",
          "text": [
            "Epoch 1/15\n",
            "68/68 - 187s - loss: 0.6291 - accuracy: 0.4645 - precision: 0.4645 - 187s/epoch - 3s/step\n",
            "Epoch 2/15\n",
            "68/68 - 23s - loss: 0.5301 - accuracy: 0.4645 - precision: 0.4645 - 23s/epoch - 333ms/step\n",
            "Epoch 3/15\n",
            "68/68 - 21s - loss: 0.5158 - accuracy: 0.4645 - precision: 0.4645 - 21s/epoch - 312ms/step\n",
            "Epoch 4/15\n",
            "68/68 - 20s - loss: 0.4823 - accuracy: 0.4645 - precision: 0.4645 - 20s/epoch - 293ms/step\n",
            "Epoch 5/15\n",
            "68/68 - 21s - loss: 0.4460 - accuracy: 0.4645 - precision: 0.4645 - 21s/epoch - 313ms/step\n",
            "Epoch 6/15\n",
            "68/68 - 20s - loss: 0.3968 - accuracy: 0.4645 - precision: 0.4645 - 20s/epoch - 296ms/step\n",
            "Epoch 7/15\n",
            "68/68 - 21s - loss: 0.3789 - accuracy: 0.4645 - precision: 0.4645 - 21s/epoch - 303ms/step\n",
            "Epoch 8/15\n",
            "68/68 - 20s - loss: 0.3586 - accuracy: 0.4645 - precision: 0.4645 - 20s/epoch - 290ms/step\n",
            "Epoch 9/15\n",
            "68/68 - 21s - loss: 0.3211 - accuracy: 0.4645 - precision: 0.4645 - 21s/epoch - 308ms/step\n",
            "Epoch 10/15\n",
            "68/68 - 21s - loss: 0.3216 - accuracy: 0.4645 - precision: 0.4645 - 21s/epoch - 303ms/step\n",
            "Epoch 11/15\n",
            "68/68 - 23s - loss: 0.2890 - accuracy: 0.4645 - precision: 0.4645 - 23s/epoch - 336ms/step\n",
            "Epoch 12/15\n",
            "68/68 - 20s - loss: 0.2625 - accuracy: 0.4645 - precision: 0.4645 - 20s/epoch - 296ms/step\n",
            "Epoch 13/15\n",
            "68/68 - 21s - loss: 0.2664 - accuracy: 0.4645 - precision: 0.4645 - 21s/epoch - 311ms/step\n",
            "Epoch 14/15\n",
            "68/68 - 21s - loss: 0.2684 - accuracy: 0.4645 - precision: 0.4645 - 21s/epoch - 308ms/step\n",
            "Epoch 15/15\n",
            "68/68 - 20s - loss: 0.2462 - accuracy: 0.4645 - precision: 0.4645 - 20s/epoch - 291ms/step\n",
            "['loss', 'accuracy', 'precision']\n",
            "[0.2506542205810547, 0.4296875, 0.4296875]\n"
          ]
        }
      ]
    },
    {
      "cell_type": "markdown",
      "source": [
        "Improvment 1"
      ],
      "metadata": {
        "id": "hnA2NezEXYea"
      }
    },
    {
      "cell_type": "code",
      "source": [
        "model = Sequential()\n",
        "model.add(Conv2D(32, (2, 2), input_shape=(64,64,3)))\n",
        "model.add(Activation('relu'))\n",
        "model.add(MaxPooling2D(pool_size=(2, 2)))\n",
        "\n",
        "model.add(Conv2D(32, (2, 2)))\n",
        "model.add(Activation('relu'))\n",
        "model.add(MaxPooling2D(pool_size=(2, 2)))\n",
        "\n",
        "model.add(Conv2D(64, (2, 2)))\n",
        "model.add(Activation('relu'))\n",
        "model.add(MaxPooling2D(pool_size=(2, 2)))\n",
        "\n",
        "model.add(Flatten())\n",
        "model.add(Dense(64))\n",
        "model.add(Activation('relu'))\n",
        "model.add(Dropout(0.5))\n",
        "model.add(Dense(1))\n",
        "model.add(Activation('sigmoid'))\n",
        "model.compile(loss='binary_crossentropy', metrics=['accuracy',tf.keras.metrics.Precision(),tf.keras.metrics.Recall()], optimizer='rmsprop')\n",
        "\n",
        "history = model.fit(train_ds,batch_size=32, epochs=15, verbose=2)\n",
        "score1 = model.evaluate(test_ds, batch_size=32, verbose=0)\n",
        "print(model.metrics_names)\n",
        "print(score1)"
      ],
      "metadata": {
        "id": "E3325eQTXPQL",
        "colab": {
          "base_uri": "https://localhost:8080/"
        },
        "outputId": "d33b8284-5592-4fb3-80b1-cfc1cfb619d5"
      },
      "execution_count": null,
      "outputs": [
        {
          "output_type": "stream",
          "name": "stdout",
          "text": [
            "Epoch 1/15\n",
            "68/68 - 11s - loss: 0.6542 - accuracy: 0.6123 - precision_3: 0.6112 - recall_2: 0.4549 - 11s/epoch - 164ms/step\n",
            "Epoch 2/15\n",
            "68/68 - 11s - loss: 0.5754 - accuracy: 0.7053 - precision_3: 0.6982 - recall_2: 0.6442 - 11s/epoch - 157ms/step\n",
            "Epoch 3/15\n",
            "68/68 - 12s - loss: 0.5394 - accuracy: 0.7320 - precision_3: 0.7250 - recall_2: 0.6819 - 12s/epoch - 173ms/step\n",
            "Epoch 4/15\n",
            "68/68 - 13s - loss: 0.5104 - accuracy: 0.7560 - precision_3: 0.7417 - recall_2: 0.7284 - 13s/epoch - 191ms/step\n",
            "Epoch 5/15\n",
            "68/68 - 10s - loss: 0.4854 - accuracy: 0.7703 - precision_3: 0.7505 - recall_2: 0.7572 - 10s/epoch - 152ms/step\n",
            "Epoch 6/15\n",
            "68/68 - 11s - loss: 0.4764 - accuracy: 0.7831 - precision_3: 0.7658 - recall_2: 0.7681 - 11s/epoch - 160ms/step\n",
            "Epoch 7/15\n",
            "68/68 - 11s - loss: 0.4391 - accuracy: 0.8071 - precision_3: 0.7898 - recall_2: 0.7968 - 11s/epoch - 159ms/step\n",
            "Epoch 8/15\n",
            "68/68 - 10s - loss: 0.4105 - accuracy: 0.8218 - precision_3: 0.8110 - recall_2: 0.8038 - 10s/epoch - 153ms/step\n",
            "Epoch 9/15\n",
            "68/68 - 11s - loss: 0.3912 - accuracy: 0.8315 - precision_3: 0.8130 - recall_2: 0.8276 - 11s/epoch - 160ms/step\n",
            "Epoch 10/15\n",
            "68/68 - 11s - loss: 0.3666 - accuracy: 0.8370 - precision_3: 0.8164 - recall_2: 0.8375 - 11s/epoch - 160ms/step\n",
            "Epoch 11/15\n",
            "68/68 - 11s - loss: 0.3555 - accuracy: 0.8485 - precision_3: 0.8301 - recall_2: 0.8474 - 11s/epoch - 161ms/step\n",
            "Epoch 12/15\n",
            "68/68 - 12s - loss: 0.3297 - accuracy: 0.8587 - precision_3: 0.8441 - recall_2: 0.8533 - 12s/epoch - 181ms/step\n",
            "Epoch 13/15\n",
            "68/68 - 11s - loss: 0.3130 - accuracy: 0.8669 - precision_3: 0.8422 - recall_2: 0.8781 - 11s/epoch - 161ms/step\n",
            "Epoch 14/15\n",
            "68/68 - 11s - loss: 0.2996 - accuracy: 0.8725 - precision_3: 0.8540 - recall_2: 0.8751 - 11s/epoch - 158ms/step\n",
            "Epoch 15/15\n",
            "68/68 - 10s - loss: 0.2997 - accuracy: 0.8656 - precision_3: 0.8525 - recall_2: 0.8593 - 10s/epoch - 140ms/step\n",
            "['loss', 'accuracy', 'precision_3', 'recall_2']\n",
            "[0.2596040964126587, 0.8897569179534912, 0.8607842922210693, 0.8868687152862549]\n"
          ]
        }
      ]
    },
    {
      "cell_type": "markdown",
      "source": [
        "Improvment 2"
      ],
      "metadata": {
        "id": "-J_dzXkBXgfL"
      }
    },
    {
      "cell_type": "code",
      "source": [
        "model = Sequential()\n",
        "model.add(Conv2D(32, (2, 2), input_shape=(64,64,3)))\n",
        "model.add(Activation('linear'))\n",
        "model.add(MaxPooling2D(pool_size=(2, 2)))\n",
        "\n",
        "model.add(Conv2D(32, (2, 2)))\n",
        "model.add(Activation('linear'))\n",
        "model.add(MaxPooling2D(pool_size=(2, 2)))\n",
        "\n",
        "model.add(Conv2D(64, (2, 2)))\n",
        "model.add(Activation('linear'))\n",
        "model.add(MaxPooling2D(pool_size=(2, 2)))\n",
        "\n",
        "model.add(Flatten())\n",
        "model.add(Dense(64))\n",
        "model.add(Activation('linear'))\n",
        "model.add(Dropout(0.5))\n",
        "model.add(Dense(1))\n",
        "model.add(Activation('sigmoid'))\n",
        "sgd = SGD(lr=0.01, decay=1e-6, momentum=0.9, nesterov=True)\n",
        "model.compile(loss='binary_crossentropy', metrics=['accuracy',tf.keras.metrics.Precision(),tf.keras.metrics.Recall()], optimizer='rmsprop')\n",
        "\n",
        "history = model.fit(train_ds,batch_size=32, epochs=10, verbose=2)\n",
        "score1 = model.evaluate(test_ds, batch_size=32, verbose=0)\n",
        "print(model.metrics_names)\n",
        "print(score1)"
      ],
      "metadata": {
        "id": "w72pgx4GXhtD",
        "colab": {
          "base_uri": "https://localhost:8080/"
        },
        "outputId": "3a413999-3fac-4414-fc5b-cd16387853fd"
      },
      "execution_count": null,
      "outputs": [
        {
          "output_type": "stream",
          "name": "stdout",
          "text": [
            "Epoch 1/10\n"
          ]
        },
        {
          "output_type": "stream",
          "name": "stderr",
          "text": [
            "/usr/local/lib/python3.10/dist-packages/keras/optimizers/legacy/gradient_descent.py:114: UserWarning: The `lr` argument is deprecated, use `learning_rate` instead.\n",
            "  super().__init__(name, **kwargs)\n"
          ]
        },
        {
          "output_type": "stream",
          "name": "stdout",
          "text": [
            "68/68 - 11s - loss: 0.6767 - accuracy: 0.6459 - precision_7: 0.6296 - recall_6: 0.5778 - 11s/epoch - 156ms/step\n",
            "Epoch 2/10\n",
            "68/68 - 10s - loss: 0.5207 - accuracy: 0.7560 - precision_7: 0.7658 - recall_6: 0.6838 - 10s/epoch - 153ms/step\n",
            "Epoch 3/10\n",
            "68/68 - 11s - loss: 0.4687 - accuracy: 0.7827 - precision_7: 0.7743 - recall_6: 0.7512 - 11s/epoch - 155ms/step\n",
            "Epoch 4/10\n",
            "68/68 - 11s - loss: 0.4073 - accuracy: 0.8163 - precision_7: 0.8144 - recall_6: 0.7830 - 11s/epoch - 168ms/step\n",
            "Epoch 5/10\n",
            "68/68 - 11s - loss: 0.3689 - accuracy: 0.8416 - precision_7: 0.8335 - recall_6: 0.8236 - 11s/epoch - 155ms/step\n",
            "Epoch 6/10\n",
            "68/68 - 11s - loss: 0.3574 - accuracy: 0.8508 - precision_7: 0.8463 - recall_6: 0.8295 - 11s/epoch - 157ms/step\n",
            "Epoch 7/10\n",
            "68/68 - 10s - loss: 0.3348 - accuracy: 0.8614 - precision_7: 0.8519 - recall_6: 0.8494 - 10s/epoch - 154ms/step\n",
            "Epoch 8/10\n",
            "68/68 - 11s - loss: 0.3197 - accuracy: 0.8628 - precision_7: 0.8551 - recall_6: 0.8484 - 11s/epoch - 158ms/step\n",
            "Epoch 9/10\n",
            "68/68 - 10s - loss: 0.2996 - accuracy: 0.8798 - precision_7: 0.8733 - recall_6: 0.8672 - 10s/epoch - 153ms/step\n",
            "Epoch 10/10\n",
            "68/68 - 11s - loss: 0.3055 - accuracy: 0.8794 - precision_7: 0.8687 - recall_6: 0.8722 - 11s/epoch - 159ms/step\n",
            "['loss', 'accuracy', 'precision_7', 'recall_6']\n",
            "[0.2347363829612732, 0.9114583134651184, 0.8700565099716187, 0.9333333373069763]\n"
          ]
        }
      ]
    },
    {
      "cell_type": "markdown",
      "source": [
        "1st Model Compare MLP"
      ],
      "metadata": {
        "id": "RHNW201qXide"
      }
    },
    {
      "cell_type": "code",
      "source": [
        "model = Sequential()\n",
        "model.add(Flatten(input_shape=(64,64,3)))\n",
        "model.add(Dense(256, activation='relu'))\n",
        "model.add(Dense(128, activation='relu'))\n",
        "model.add(Dense(1,activation='sigmoid'))\n",
        "model.compile(loss='binary_crossentropy', metrics=['accuracy',tf.keras.metrics.Precision(),tf.keras.metrics.Recall()], optimizer='adam')\n",
        "\n",
        "history = model.fit(train_ds,batch_size=32, epochs=10, verbose=2)\n",
        "score1 = model.evaluate(test_ds, batch_size=32, verbose=0)\n",
        "print(model.metrics_names)\n",
        "print(score1)"
      ],
      "metadata": {
        "id": "oVYP5tloXkO7",
        "colab": {
          "base_uri": "https://localhost:8080/"
        },
        "outputId": "bdcd1c61-9da8-42b3-ada2-a57aff9300dd"
      },
      "execution_count": null,
      "outputs": [
        {
          "output_type": "stream",
          "name": "stdout",
          "text": [
            "Epoch 1/10\n",
            "68/68 - 8s - loss: 1.0374 - accuracy: 0.5907 - precision_8: 0.5645 - recall_7: 0.5203 - 8s/epoch - 125ms/step\n",
            "Epoch 2/10\n",
            "68/68 - 8s - loss: 0.6947 - accuracy: 0.6174 - precision_8: 0.5969 - recall_7: 0.5431 - 8s/epoch - 114ms/step\n",
            "Epoch 3/10\n",
            "68/68 - 8s - loss: 0.6343 - accuracy: 0.6575 - precision_8: 0.6442 - recall_7: 0.5867 - 8s/epoch - 113ms/step\n",
            "Epoch 4/10\n",
            "68/68 - 10s - loss: 0.5594 - accuracy: 0.7145 - precision_8: 0.7173 - recall_7: 0.6363 - 10s/epoch - 154ms/step\n",
            "Epoch 5/10\n",
            "68/68 - 8s - loss: 0.5705 - accuracy: 0.7081 - precision_8: 0.7018 - recall_7: 0.6462 - 8s/epoch - 119ms/step\n",
            "Epoch 6/10\n",
            "68/68 - 8s - loss: 0.6099 - accuracy: 0.6897 - precision_8: 0.6888 - recall_7: 0.6056 - 8s/epoch - 112ms/step\n",
            "Epoch 7/10\n",
            "68/68 - 8s - loss: 0.5780 - accuracy: 0.6957 - precision_8: 0.6887 - recall_7: 0.6293 - 8s/epoch - 114ms/step\n",
            "Epoch 8/10\n",
            "68/68 - 8s - loss: 0.5603 - accuracy: 0.7099 - precision_8: 0.7108 - recall_7: 0.6333 - 8s/epoch - 119ms/step\n",
            "Epoch 9/10\n",
            "68/68 - 8s - loss: 0.5508 - accuracy: 0.7178 - precision_8: 0.7152 - recall_7: 0.6521 - 8s/epoch - 120ms/step\n",
            "Epoch 10/10\n",
            "68/68 - 8s - loss: 0.5460 - accuracy: 0.7256 - precision_8: 0.7228 - recall_7: 0.6640 - 8s/epoch - 111ms/step\n",
            "['loss', 'accuracy', 'precision_8', 'recall_7']\n",
            "[0.46238088607788086, 0.7829861044883728, 0.8070175647735596, 0.6505050659179688]\n"
          ]
        }
      ]
    },
    {
      "cell_type": "markdown",
      "source": [
        "2nd Model Compare LSTM"
      ],
      "metadata": {
        "id": "IslUcNWVXsP1"
      }
    },
    {
      "cell_type": "code",
      "source": [
        "model = Sequential()\n",
        "model.add(LSTM(units= 4,input_shape=(64,3),return_sequences=True))\n",
        "model.add(Dense(1,activation='sigmoid'))\n",
        "model.compile(loss='binary_crossentropy', metrics=['accuracy',tf.keras.metrics.Precision(),tf.keras.metrics.Recall()], optimizer='rmsprop')\n",
        "\n",
        "history = model.fit(train_ds,batch_size=32, epochs=10, verbose=2)\n",
        "score1 = model.evaluate(test_ds, batch_size=32, verbose=0)\n",
        "print(model.metrics_names)\n",
        "print(score1)"
      ],
      "metadata": {
        "id": "m0T9MNM6Bhxl"
      },
      "execution_count": null,
      "outputs": []
    },
    {
      "cell_type": "markdown",
      "source": [
        "Visualize Results"
      ],
      "metadata": {
        "id": "4n5npdx6buGE"
      }
    },
    {
      "cell_type": "code",
      "source": [
        "# create data\n",
        "df = pd.DataFrame([['CNN', 42, 42, 100, 59], ['CNN - Extra Layers', 89, 84, 92, 88], ['CNN - Parameters Change ', 86, 81, 88, 84],\n",
        "                   ['MLP', 78, 71, 83, 76],['LSTM',60 ,53 ,61,56 ]],\n",
        "                  columns=['Model', 'Accuracy', 'Precision', 'Recall', 'F1-Score'])\n",
        "# plot grouped bar chart\n",
        "df.plot(x='Model',\n",
        "        kind='barh',\n",
        "        stacked=False,\n",
        "        title='Scores of Models')"
      ],
      "metadata": {
        "id": "6WfLLUJXbvfb",
        "colab": {
          "base_uri": "https://localhost:8080/",
          "height": 211
        },
        "outputId": "bbbcca9c-9a79-4d67-fa2a-07f24b116de7"
      },
      "execution_count": null,
      "outputs": [
        {
          "output_type": "execute_result",
          "data": {
            "text/plain": [
              "<Axes: title={'center': 'Scores of Models'}, ylabel='Model'>"
            ]
          },
          "metadata": {},
          "execution_count": 33
        },
        {
          "output_type": "display_data",
          "data": {
            "text/plain": [
              "<Figure size 640x480 with 1 Axes>"
            ],
            "image/png": "[encoded data removed]"
          },
          "metadata": {}
        }
      ]
    }
  ]
}